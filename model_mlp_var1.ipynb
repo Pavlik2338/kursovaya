{
 "cells": [
  {
   "cell_type": "code",
   "execution_count": 1,
   "id": "f83f7efb",
   "metadata": {},
   "outputs": [
    {
     "ename": "ModuleNotFoundError",
     "evalue": "No module named 'tensorflow'",
     "output_type": "error",
     "traceback": [
      "\u001b[1;31m---------------------------------------------------------------------------\u001b[0m",
      "\u001b[1;31mModuleNotFoundError\u001b[0m                       Traceback (most recent call last)",
      "\u001b[1;32m~\\AppData\\Local\\Temp/ipykernel_9016/4281591475.py\u001b[0m in \u001b[0;36m<module>\u001b[1;34m\u001b[0m\n\u001b[0;32m      5\u001b[0m \u001b[1;32mimport\u001b[0m \u001b[0mpickle\u001b[0m\u001b[1;33m\u001b[0m\u001b[1;33m\u001b[0m\u001b[0m\n\u001b[0;32m      6\u001b[0m \u001b[1;33m\u001b[0m\u001b[0m\n\u001b[1;32m----> 7\u001b[1;33m \u001b[1;32mimport\u001b[0m \u001b[0mtensorflow\u001b[0m \u001b[1;32mas\u001b[0m \u001b[0mtf\u001b[0m\u001b[1;33m\u001b[0m\u001b[1;33m\u001b[0m\u001b[0m\n\u001b[0m\u001b[0;32m      8\u001b[0m \u001b[1;33m\u001b[0m\u001b[0m\n\u001b[0;32m      9\u001b[0m \u001b[1;33m\u001b[0m\u001b[0m\n",
      "\u001b[1;31mModuleNotFoundError\u001b[0m: No module named 'tensorflow'"
     ]
    }
   ],
   "source": [
    "import numpy as np\n",
    "import pandas as pd\n",
    "\n",
    "from matplotlib import pyplot as plt\n",
    "import pickle\n",
    "\n",
    "import tensorflow as tf\n",
    "\n",
    "\n",
    "import os"
   ]
  },
  {
   "cell_type": "code",
   "execution_count": null,
   "id": "0831b603",
   "metadata": {},
   "outputs": [],
   "source": [
    "print(tf.version.VERSION)\n",
    "\n",
    "tf.config.run_functions_eagerly(True)"
   ]
  },
  {
   "cell_type": "code",
   "execution_count": null,
   "id": "e541a22d",
   "metadata": {},
   "outputs": [],
   "source": [
    "gpus = tf.config.list_physical_devices('GPU')\n",
    "\n",
    "tf.config.experimental.set_visible_devices(gpus[1], 'GPU')"
   ]
  },
  {
   "cell_type": "code",
   "execution_count": null,
   "id": "41bd69ae",
   "metadata": {},
   "outputs": [],
   "source": [
    "with open('../data/var1.pkl', 'rb') as file:\n",
    "    train_data, test_data, e_params, t_params, ft_params = pickle.load(file)"
   ]
  },
  {
   "cell_type": "code",
   "execution_count": null,
   "id": "9aae91c8",
   "metadata": {},
   "outputs": [],
   "source": [
    "# операция обратная стандартизации для восстановления результата\n",
    "def restore_result(e_vals):\n",
    "    return e_vals * e_params[1] + e_params[0]"
   ]
  },
  {
   "cell_type": "markdown",
   "id": "773c2152",
   "metadata": {},
   "source": [
    "# Dataset"
   ]
  },
  {
   "cell_type": "markdown",
   "id": "ac0d072b",
   "metadata": {},
   "source": [
    "## split_time_series\n",
    "\n",
    "Разбивает временной ряд на части, перемещая \"окно\" размером $(input\\_width + label\\_width)$ с шагом step.\n",
    "\n",
    "Образец составляют три вектора: \n",
    "1. Первый входной вектор $(input\\_width \\times input1\\_columns)$ - информация о предыдущих элементах ряда (например, наблюдения за последнюю неделю, месяц) \n",
    "2. Второй входной вектор $(label\\_width \\times input2\\_columns)$ - информация о прогнозируемых элементах ряда (например, дни недели и месяц прогнозируемых дней)\n",
    "3. Выходной вектор $(label\\_width \\times label\\_columns)$\n",
    "\n",
    "Входной вектор разделен на две части, чтобы была возможность отдельно обрабатывать \"исторические\" данные (предыдущие наблюдения) и информацию о прогнозируемых элементах ряда.\n",
    "\n",
    "Параметры:\n",
    "- series - временной ряд\n",
    "- input_width - размер входного вектора\n",
    "- output_width - размер выходного вектора\n",
    "- step - шаг перемещения окна\n",
    "- input1_columns - список номеров колонок, значения которых должны присутствовать в первом входном векторе\n",
    "- input2_columns - список номеров колонок, значения которых должны присутствовать во втором входном векторе\n",
    "- label_columns - список номеров колонок, значения которых должны присутствовать в выходном векторе\n",
    "\n"
   ]
  },
  {
   "cell_type": "code",
   "execution_count": null,
   "id": "c934a486",
   "metadata": {},
   "outputs": [],
   "source": [
    "def split_time_series(series, input_width, label_width,\n",
    "                         step, input1_columns, input2_columns, label_columns):\n",
    "    \n",
    "    window_size = input_width + label_width\n",
    "    \n",
    "    res_len = (len(series) - window_size) // step + 1\n",
    "    \n",
    "    x1 = np.zeros((res_len, input_width, len(input1_columns)))\n",
    "    x2 = np.zeros((res_len, label_width, len(input2_columns)))\n",
    "    y = np.zeros((res_len, label_width, len(label_columns)))\n",
    "    \n",
    "    for i in range(res_len):\n",
    "        x1[i] = series[i * step: i * step + input_width, input1_columns]\n",
    "        x2[i] = series[i * step + input_width: i * step + window_size, input2_columns]\n",
    "        y[i] = series[i * step + input_width : \n",
    "                      i * step + window_size, label_columns]\n",
    "        \n",
    "    x = [x1, x2] # np.concatenate([x1, x2])\n",
    "        \n",
    "    return x, y"
   ]
  },
  {
   "cell_type": "markdown",
   "id": "dc19b10c",
   "metadata": {},
   "source": [
    "## Параметры данной модели\n",
    "\n",
    "Прогнозируются температура и энергопотребление одного дня, на вход подаются известные заранее параметры этого дня (день недели, выходной/праздник и т.д.), а также наблюдения за последнюю неделю. "
   ]
  },
  {
   "cell_type": "code",
   "execution_count": null,
   "id": "b3564b83",
   "metadata": {},
   "outputs": [],
   "source": [
    "INPUT_WIDTH = 7\n",
    "LABEL_WIDTH = 1\n",
    "STEP = 1\n",
    "\n",
    "INPUT1_COLUMNS = [0, 1]\n",
    "INPUT2_COLUMNS = [2, 3, 8, 9, 10, 11, 12, 13]\n",
    "LABEL_COLUMNS = [0, 1]"
   ]
  },
  {
   "cell_type": "code",
   "execution_count": null,
   "id": "c61cc0d4",
   "metadata": {},
   "outputs": [],
   "source": [
    "x_train, y_train = split_time_series(train_data.to_numpy(),\n",
    "                                     INPUT_WIDTH, LABEL_WIDTH,\n",
    "                                     STEP, INPUT1_COLUMNS, INPUT2_COLUMNS, LABEL_COLUMNS)\n",
    "x_test, y_test = split_time_series(test_data.to_numpy(),\n",
    "                                     INPUT_WIDTH, LABEL_WIDTH,\n",
    "                                     STEP, INPUT1_COLUMNS, INPUT2_COLUMNS, LABEL_COLUMNS)\n",
    "\n",
    "print(x_train[0].shape, x_train[1].shape, y_train.shape, '\\n', \n",
    "      x_test[0].shape, x_test[1].shape, y_test.shape)"
   ]
  },
  {
   "cell_type": "markdown",
   "id": "0c9a7c20",
   "metadata": {},
   "source": [
    "# Model"
   ]
  },
  {
   "cell_type": "code",
   "execution_count": 2,
   "id": "7b2787b8",
   "metadata": {},
   "outputs": [],
   "source": [
    "# tf.keras.utils.set_random_seed(10)\n",
    "\n",
    "BATCH_SIZE = 1\n",
    "MAX_EPOCHS = 1000"
   ]
  },
  {
   "cell_type": "code",
   "execution_count": 3,
   "id": "c316fb84",
   "metadata": {},
   "outputs": [],
   "source": [
    "'''\n",
    "def build_model_2():  \n",
    "    input1 = tf.keras.layers.Input(shape=(INPUT_WIDTH, len(INPUT1_COLUMNS)))\n",
    "    flatten1 = tf.keras.layers.Flatten()(input1)\n",
    "    dense11 = tf.keras.layers.Dense(8, activation='relu')(flatten1)\n",
    "    dense12 = tf.keras.layers.Dense(8, activation='relu')(dense11)\n",
    "    \n",
    "    input2 = tf.keras.layers.Input(shape=(LABEL_WIDTH, len(INPUT2_COLUMNS)))\n",
    "    flatten2 = tf.keras.layers.Flatten()(input2)\n",
    "    dense21 = tf.keras.layers.Dense(16, activation='relu')(flatten2)\n",
    "    dense22 = tf.keras.layers.Dense(8, activation='relu')(dense21)\n",
    "    \n",
    "    concat = tf.keras.layers.concatenate([dense12, dense22])\n",
    "    dense3 = tf.keras.layers.Dense(16, activation='relu')(concat)\n",
    "    output = tf.keras.layers.Dense(len(LABEL_COLUMNS))(dense3)\n",
    "    \n",
    "    reshape = tf.keras.layers.Reshape([LABEL_WIDTH, len(LABEL_COLUMNS)])(output)\n",
    "    \n",
    "    model = tf.keras.Model(inputs=[input1, input2], outputs=reshape)\n",
    "    model.compile(optimizer='adam', loss='mse')\n",
    "    \n",
    "    return model\n",
    "\n",
    "def build_model_1():    \n",
    "    input1 = tf.keras.layers.Input(shape=(INPUT_WIDTH, len(INPUT1_COLUMNS)))\n",
    "    flatten1 = tf.keras.layers.Flatten()(input1)\n",
    "    \n",
    "    input2 = tf.keras.layers.Input(shape=(LABEL_WIDTH, len(INPUT2_COLUMNS)))\n",
    "    flatten2 = tf.keras.layers.Flatten()(input2)\n",
    "    \n",
    "    concat = tf.keras.layers.concatenate([flatten1, flatten2])\n",
    "    \n",
    "    dense1 = tf.keras.layers.Dense(64, activation='relu')(concat)\n",
    "    dropout1 = tf.keras.layers.Dropout(0.5)(dense1)\n",
    "    dense2 = tf.keras.layers.Dense(64, activation='relu')(dropout1)\n",
    "    dropout2 = tf.keras.layers.Dropout(0.5)(dense2)\n",
    "    \n",
    "    output = tf.keras.layers.Dense(len(LABEL_COLUMNS))(dropout2)\n",
    "    \n",
    "    reshape = tf.keras.layers.Reshape([LABEL_WIDTH, len(LABEL_COLUMNS)])(output)\n",
    "    \n",
    "    model = tf.keras.Model(inputs=[input1, input2], outputs=reshape)\n",
    "    model.compile(optimizer='adam', loss='mse')\n",
    "    \n",
    "    return model\n",
    "'''\n",
    "\n",
    "def build_model():    \n",
    "    input1 = tf.keras.layers.Input(shape=(INPUT_WIDTH, len(INPUT1_COLUMNS)))\n",
    "    flatten1 = tf.keras.layers.Flatten()(input1)\n",
    "    \n",
    "    input2 = tf.keras.layers.Input(shape=(LABEL_WIDTH, len(INPUT2_COLUMNS)))\n",
    "    flatten2 = tf.keras.layers.Flatten()(input2)\n",
    "    \n",
    "    concat = tf.keras.layers.concatenate([flatten1, flatten2])\n",
    "    \n",
    "    dense1 = tf.keras.layers.Dense(8, activation='relu')(concat)\n",
    "    dense2 = tf.keras.layers.Dense(8, activation='relu')(dense1)\n",
    "    \n",
    "    output = tf.keras.layers.Dense(len(LABEL_COLUMNS))(dense2)\n",
    "    \n",
    "    reshape = tf.keras.layers.Reshape([LABEL_WIDTH, len(LABEL_COLUMNS)])(output)\n",
    "    \n",
    "    model = tf.keras.Model(inputs=[input1, input2], outputs=reshape)\n",
    "    model.compile(optimizer='adam', loss='mse')\n",
    "    \n",
    "    return model"
   ]
  },
  {
   "cell_type": "code",
   "execution_count": 4,
   "id": "7065e483",
   "metadata": {},
   "outputs": [
    {
     "ename": "NameError",
     "evalue": "name 'tf' is not defined",
     "output_type": "error",
     "traceback": [
      "\u001b[1;31m---------------------------------------------------------------------------\u001b[0m",
      "\u001b[1;31mNameError\u001b[0m                                 Traceback (most recent call last)",
      "\u001b[1;32m~\\AppData\\Local\\Temp/ipykernel_1388/1335155156.py\u001b[0m in \u001b[0;36m<module>\u001b[1;34m\u001b[0m\n\u001b[1;32m----> 1\u001b[1;33m \u001b[0mmodel\u001b[0m \u001b[1;33m=\u001b[0m \u001b[0mbuild_model\u001b[0m\u001b[1;33m(\u001b[0m\u001b[1;33m)\u001b[0m\u001b[1;33m\u001b[0m\u001b[1;33m\u001b[0m\u001b[0m\n\u001b[0m",
      "\u001b[1;32m~\\AppData\\Local\\Temp/ipykernel_1388/1616206750.py\u001b[0m in \u001b[0;36mbuild_model\u001b[1;34m()\u001b[0m\n\u001b[0;32m     47\u001b[0m \u001b[1;33m\u001b[0m\u001b[0m\n\u001b[0;32m     48\u001b[0m \u001b[1;32mdef\u001b[0m \u001b[0mbuild_model\u001b[0m\u001b[1;33m(\u001b[0m\u001b[1;33m)\u001b[0m\u001b[1;33m:\u001b[0m\u001b[1;33m\u001b[0m\u001b[1;33m\u001b[0m\u001b[0m\n\u001b[1;32m---> 49\u001b[1;33m     \u001b[0minput1\u001b[0m \u001b[1;33m=\u001b[0m \u001b[0mtf\u001b[0m\u001b[1;33m.\u001b[0m\u001b[0mkeras\u001b[0m\u001b[1;33m.\u001b[0m\u001b[0mlayers\u001b[0m\u001b[1;33m.\u001b[0m\u001b[0mInput\u001b[0m\u001b[1;33m(\u001b[0m\u001b[0mshape\u001b[0m\u001b[1;33m=\u001b[0m\u001b[1;33m(\u001b[0m\u001b[0mINPUT_WIDTH\u001b[0m\u001b[1;33m,\u001b[0m \u001b[0mlen\u001b[0m\u001b[1;33m(\u001b[0m\u001b[0mINPUT1_COLUMNS\u001b[0m\u001b[1;33m)\u001b[0m\u001b[1;33m)\u001b[0m\u001b[1;33m)\u001b[0m\u001b[1;33m\u001b[0m\u001b[1;33m\u001b[0m\u001b[0m\n\u001b[0m\u001b[0;32m     50\u001b[0m     \u001b[0mflatten1\u001b[0m \u001b[1;33m=\u001b[0m \u001b[0mtf\u001b[0m\u001b[1;33m.\u001b[0m\u001b[0mkeras\u001b[0m\u001b[1;33m.\u001b[0m\u001b[0mlayers\u001b[0m\u001b[1;33m.\u001b[0m\u001b[0mFlatten\u001b[0m\u001b[1;33m(\u001b[0m\u001b[1;33m)\u001b[0m\u001b[1;33m(\u001b[0m\u001b[0minput1\u001b[0m\u001b[1;33m)\u001b[0m\u001b[1;33m\u001b[0m\u001b[1;33m\u001b[0m\u001b[0m\n\u001b[0;32m     51\u001b[0m \u001b[1;33m\u001b[0m\u001b[0m\n",
      "\u001b[1;31mNameError\u001b[0m: name 'tf' is not defined"
     ]
    }
   ],
   "source": [
    "model = build_model()"
   ]
  },
  {
   "cell_type": "code",
   "execution_count": 5,
   "id": "0cc74ace",
   "metadata": {
    "scrolled": false
   },
   "outputs": [
    {
     "ename": "NameError",
     "evalue": "name 'model' is not defined",
     "output_type": "error",
     "traceback": [
      "\u001b[1;31m---------------------------------------------------------------------------\u001b[0m",
      "\u001b[1;31mNameError\u001b[0m                                 Traceback (most recent call last)",
      "\u001b[1;32m~\\AppData\\Local\\Temp/ipykernel_1388/1898968763.py\u001b[0m in \u001b[0;36m<module>\u001b[1;34m\u001b[0m\n\u001b[1;32m----> 1\u001b[1;33m \u001b[0mmodel\u001b[0m\u001b[1;33m.\u001b[0m\u001b[0msummary\u001b[0m\u001b[1;33m(\u001b[0m\u001b[1;33m)\u001b[0m\u001b[1;33m\u001b[0m\u001b[1;33m\u001b[0m\u001b[0m\n\u001b[0m\u001b[0;32m      2\u001b[0m \u001b[1;33m\u001b[0m\u001b[0m\n\u001b[0;32m      3\u001b[0m \u001b[0mtf\u001b[0m\u001b[1;33m.\u001b[0m\u001b[0mkeras\u001b[0m\u001b[1;33m.\u001b[0m\u001b[0mutils\u001b[0m\u001b[1;33m.\u001b[0m\u001b[0mplot_model\u001b[0m\u001b[1;33m(\u001b[0m\u001b[0mmodel\u001b[0m\u001b[1;33m,\u001b[0m \u001b[0mshow_shapes\u001b[0m\u001b[1;33m=\u001b[0m\u001b[1;32mTrue\u001b[0m\u001b[1;33m)\u001b[0m\u001b[1;33m\u001b[0m\u001b[1;33m\u001b[0m\u001b[0m\n",
      "\u001b[1;31mNameError\u001b[0m: name 'model' is not defined"
     ]
    }
   ],
   "source": [
    "model.summary()\n",
    "\n",
    "tf.keras.utils.plot_model(model, show_shapes=True)"
   ]
  },
  {
   "cell_type": "code",
   "execution_count": 6,
   "id": "bace69d0",
   "metadata": {},
   "outputs": [
    {
     "ename": "NameError",
     "evalue": "name 'x_train' is not defined",
     "output_type": "error",
     "traceback": [
      "\u001b[1;31m---------------------------------------------------------------------------\u001b[0m",
      "\u001b[1;31mNameError\u001b[0m                                 Traceback (most recent call last)",
      "\u001b[1;32m~\\AppData\\Local\\Temp/ipykernel_1388/3448976245.py\u001b[0m in \u001b[0;36m<module>\u001b[1;34m\u001b[0m\n\u001b[1;32m----> 1\u001b[1;33m \u001b[0mprint\u001b[0m\u001b[1;33m(\u001b[0m\u001b[0mx_train\u001b[0m\u001b[1;33m[\u001b[0m\u001b[1;36m0\u001b[0m\u001b[1;33m]\u001b[0m\u001b[1;33m.\u001b[0m\u001b[0mshape\u001b[0m\u001b[1;33m,\u001b[0m \u001b[0mx_train\u001b[0m\u001b[1;33m[\u001b[0m\u001b[1;36m1\u001b[0m\u001b[1;33m]\u001b[0m\u001b[1;33m.\u001b[0m\u001b[0mshape\u001b[0m\u001b[1;33m)\u001b[0m\u001b[1;33m\u001b[0m\u001b[1;33m\u001b[0m\u001b[0m\n\u001b[0m\u001b[0;32m      2\u001b[0m \u001b[1;33m\u001b[0m\u001b[0m\n\u001b[0;32m      3\u001b[0m x = [np.expand_dims(x_train[0][0], 0), \n\u001b[0;32m      4\u001b[0m      np.expand_dims(x_train[1][0], 0)]\n\u001b[0;32m      5\u001b[0m \u001b[1;33m\u001b[0m\u001b[0m\n",
      "\u001b[1;31mNameError\u001b[0m: name 'x_train' is not defined"
     ]
    }
   ],
   "source": [
    "print(x_train[0].shape, x_train[1].shape)\n",
    "\n",
    "x = [np.expand_dims(x_train[0][0], 0), \n",
    "     np.expand_dims(x_train[1][0], 0)]\n",
    "\n",
    "print(model(x))"
   ]
  },
  {
   "cell_type": "markdown",
   "id": "874bf6d5",
   "metadata": {},
   "source": [
    "### Конфигурация tensorboard для наблюдения за процессом обучения"
   ]
  },
  {
   "cell_type": "code",
   "execution_count": 7,
   "id": "abb5bea5",
   "metadata": {},
   "outputs": [
    {
     "ename": "NameError",
     "evalue": "name 'tf' is not defined",
     "output_type": "error",
     "traceback": [
      "\u001b[1;31m---------------------------------------------------------------------------\u001b[0m",
      "\u001b[1;31mNameError\u001b[0m                                 Traceback (most recent call last)",
      "\u001b[1;32m~\\AppData\\Local\\Temp/ipykernel_1388/1003256066.py\u001b[0m in \u001b[0;36m<module>\u001b[1;34m\u001b[0m\n\u001b[0;32m      2\u001b[0m \u001b[0mlog_dir\u001b[0m \u001b[1;33m=\u001b[0m \u001b[0mmodel_path\u001b[0m \u001b[1;33m+\u001b[0m \u001b[1;34m\"logs/\"\u001b[0m\u001b[1;33m\u001b[0m\u001b[1;33m\u001b[0m\u001b[0m\n\u001b[0;32m      3\u001b[0m \u001b[1;33m\u001b[0m\u001b[0m\n\u001b[1;32m----> 4\u001b[1;33m tensorboard_callback = tf.keras.callbacks.TensorBoard(log_dir=log_dir,\n\u001b[0m\u001b[0;32m      5\u001b[0m                                                          update_freq='batch')\n",
      "\u001b[1;31mNameError\u001b[0m: name 'tf' is not defined"
     ]
    }
   ],
   "source": [
    "model_path = \"../models/mlp_01/01/\"\n",
    "log_dir = model_path + \"logs/\"\n",
    "\n",
    "tensorboard_callback = tf.keras.callbacks.TensorBoard(log_dir=log_dir,\n",
    "                                                         update_freq='batch')"
   ]
  },
  {
   "cell_type": "markdown",
   "id": "d22dacb9",
   "metadata": {},
   "source": [
    "### Конфигурация сохранения весов модели в процессе обучения"
   ]
  },
  {
   "cell_type": "code",
   "execution_count": 8,
   "id": "c0aa64a4",
   "metadata": {},
   "outputs": [
    {
     "ename": "NameError",
     "evalue": "name 'os' is not defined",
     "output_type": "error",
     "traceback": [
      "\u001b[1;31m---------------------------------------------------------------------------\u001b[0m",
      "\u001b[1;31mNameError\u001b[0m                                 Traceback (most recent call last)",
      "\u001b[1;32m~\\AppData\\Local\\Temp/ipykernel_1388/3607309439.py\u001b[0m in \u001b[0;36m<module>\u001b[1;34m\u001b[0m\n\u001b[0;32m      1\u001b[0m \u001b[0mcheckpoint_name\u001b[0m \u001b[1;33m=\u001b[0m \u001b[0mmodel_path\u001b[0m \u001b[1;33m+\u001b[0m \u001b[1;34m\"checkpoints/cp-{epoch:04d}.ckpt\"\u001b[0m\u001b[1;33m\u001b[0m\u001b[1;33m\u001b[0m\u001b[0m\n\u001b[1;32m----> 2\u001b[1;33m \u001b[0mcheckpoint_dir\u001b[0m \u001b[1;33m=\u001b[0m \u001b[0mos\u001b[0m\u001b[1;33m.\u001b[0m\u001b[0mpath\u001b[0m\u001b[1;33m.\u001b[0m\u001b[0mdirname\u001b[0m\u001b[1;33m(\u001b[0m\u001b[0mcheckpoint_name\u001b[0m\u001b[1;33m)\u001b[0m\u001b[1;33m\u001b[0m\u001b[1;33m\u001b[0m\u001b[0m\n\u001b[0m\u001b[0;32m      3\u001b[0m \u001b[1;33m\u001b[0m\u001b[0m\n\u001b[0;32m      4\u001b[0m cp_callback = tf.keras.callbacks.ModelCheckpoint(\n\u001b[0;32m      5\u001b[0m                     \u001b[0mfilepath\u001b[0m \u001b[1;33m=\u001b[0m \u001b[0mcheckpoint_name\u001b[0m\u001b[1;33m,\u001b[0m\u001b[1;33m\u001b[0m\u001b[1;33m\u001b[0m\u001b[0m\n",
      "\u001b[1;31mNameError\u001b[0m: name 'os' is not defined"
     ]
    }
   ],
   "source": [
    "checkpoint_name = model_path + \"checkpoints/cp-{epoch:04d}.ckpt\"\n",
    "checkpoint_dir = os.path.dirname(checkpoint_name)\n",
    "\n",
    "cp_callback = tf.keras.callbacks.ModelCheckpoint(\n",
    "                    filepath = checkpoint_name, \n",
    "                    verbose = 1, \n",
    "                    save_weights_only = True,\n",
    "                    save_freq = 10 * len(x_train[0]))"
   ]
  },
  {
   "cell_type": "markdown",
   "id": "aaccbfc6",
   "metadata": {},
   "source": [
    "### Загрузка последнего (или наиболее успешного) чекпоинта "
   ]
  },
  {
   "cell_type": "code",
   "execution_count": 9,
   "id": "7872aa56",
   "metadata": {},
   "outputs": [
    {
     "ename": "NameError",
     "evalue": "name 'model' is not defined",
     "output_type": "error",
     "traceback": [
      "\u001b[1;31m---------------------------------------------------------------------------\u001b[0m",
      "\u001b[1;31mNameError\u001b[0m                                 Traceback (most recent call last)",
      "\u001b[1;32m~\\AppData\\Local\\Temp/ipykernel_1388/635261884.py\u001b[0m in \u001b[0;36m<module>\u001b[1;34m\u001b[0m\n\u001b[0;32m      2\u001b[0m \u001b[1;31m# model.load_weights(latest)\u001b[0m\u001b[1;33m\u001b[0m\u001b[1;33m\u001b[0m\u001b[0m\n\u001b[0;32m      3\u001b[0m \u001b[1;33m\u001b[0m\u001b[0m\n\u001b[1;32m----> 4\u001b[1;33m \u001b[0mmodel\u001b[0m\u001b[1;33m.\u001b[0m\u001b[0mload_weights\u001b[0m\u001b[1;33m(\u001b[0m\u001b[0mmodel_path\u001b[0m \u001b[1;33m+\u001b[0m \u001b[1;34m\"checkpoints/cp-0070.ckpt\"\u001b[0m\u001b[1;33m)\u001b[0m\u001b[1;33m\u001b[0m\u001b[1;33m\u001b[0m\u001b[0m\n\u001b[0m",
      "\u001b[1;31mNameError\u001b[0m: name 'model' is not defined"
     ]
    }
   ],
   "source": [
    "# latest = tf.train.latest_checkpoint(checkpoint_dir)\n",
    "# model.load_weights(latest)\n",
    "\n",
    "model.load_weights(model_path + \"checkpoints/cp-0070.ckpt\")"
   ]
  },
  {
   "cell_type": "markdown",
   "id": "f9cfcd5d",
   "metadata": {},
   "source": [
    "### Обучение модели"
   ]
  },
  {
   "cell_type": "code",
   "execution_count": 10,
   "id": "21e7f9d7",
   "metadata": {},
   "outputs": [
    {
     "ename": "NameError",
     "evalue": "name 'model' is not defined",
     "output_type": "error",
     "traceback": [
      "\u001b[1;31m---------------------------------------------------------------------------\u001b[0m",
      "\u001b[1;31mNameError\u001b[0m                                 Traceback (most recent call last)",
      "\u001b[1;32m~\\AppData\\Local\\Temp/ipykernel_1388/3911826815.py\u001b[0m in \u001b[0;36m<module>\u001b[1;34m\u001b[0m\n\u001b[1;32m----> 1\u001b[1;33m model.fit(x_train, y_train, \n\u001b[0m\u001b[0;32m      2\u001b[0m           \u001b[0mvalidation_data\u001b[0m \u001b[1;33m=\u001b[0m \u001b[1;33m(\u001b[0m\u001b[0mx_test\u001b[0m\u001b[1;33m,\u001b[0m \u001b[0my_test\u001b[0m\u001b[1;33m)\u001b[0m\u001b[1;33m,\u001b[0m\u001b[1;33m\u001b[0m\u001b[1;33m\u001b[0m\u001b[0m\n\u001b[0;32m      3\u001b[0m           \u001b[0mbatch_size\u001b[0m \u001b[1;33m=\u001b[0m \u001b[0mBATCH_SIZE\u001b[0m\u001b[1;33m,\u001b[0m\u001b[1;33m\u001b[0m\u001b[1;33m\u001b[0m\u001b[0m\n\u001b[0;32m      4\u001b[0m           \u001b[0mepochs\u001b[0m \u001b[1;33m=\u001b[0m \u001b[0mMAX_EPOCHS\u001b[0m\u001b[1;33m,\u001b[0m\u001b[1;33m\u001b[0m\u001b[1;33m\u001b[0m\u001b[0m\n\u001b[0;32m      5\u001b[0m           callbacks = [tensorboard_callback, cp_callback])\n",
      "\u001b[1;31mNameError\u001b[0m: name 'model' is not defined"
     ]
    }
   ],
   "source": [
    "model.fit(x_train, y_train, \n",
    "          validation_data = (x_test, y_test),\n",
    "          batch_size = BATCH_SIZE, \n",
    "          epochs = MAX_EPOCHS, \n",
    "          callbacks = [tensorboard_callback, cp_callback])"
   ]
  },
  {
   "cell_type": "markdown",
   "id": "37ce1a58",
   "metadata": {},
   "source": [
    "# Визуализация прогноизрования"
   ]
  },
  {
   "cell_type": "code",
   "execution_count": 11,
   "id": "1642b663",
   "metadata": {},
   "outputs": [],
   "source": [
    "from matplotlib import pyplot as plt"
   ]
  },
  {
   "cell_type": "markdown",
   "id": "6ae14464",
   "metadata": {},
   "source": [
    "## На обучающей выборке"
   ]
  },
  {
   "cell_type": "code",
   "execution_count": 12,
   "id": "ba7e15c1",
   "metadata": {},
   "outputs": [
    {
     "ename": "NameError",
     "evalue": "name 'y_train' is not defined",
     "output_type": "error",
     "traceback": [
      "\u001b[1;31m---------------------------------------------------------------------------\u001b[0m",
      "\u001b[1;31mNameError\u001b[0m                                 Traceback (most recent call last)",
      "\u001b[1;32m~\\AppData\\Local\\Temp/ipykernel_1388/1592833045.py\u001b[0m in \u001b[0;36m<module>\u001b[1;34m\u001b[0m\n\u001b[1;32m----> 1\u001b[1;33m \u001b[0mplt\u001b[0m\u001b[1;33m.\u001b[0m\u001b[0mplot\u001b[0m\u001b[1;33m(\u001b[0m\u001b[0mnp\u001b[0m\u001b[1;33m.\u001b[0m\u001b[0msqueeze\u001b[0m\u001b[1;33m(\u001b[0m\u001b[0my_train\u001b[0m\u001b[1;33m)\u001b[0m\u001b[1;33m[\u001b[0m\u001b[1;33m:\u001b[0m\u001b[1;36m200\u001b[0m\u001b[1;33m,\u001b[0m\u001b[1;36m0\u001b[0m\u001b[1;33m]\u001b[0m\u001b[1;33m)\u001b[0m\u001b[1;33m\u001b[0m\u001b[1;33m\u001b[0m\u001b[0m\n\u001b[0m\u001b[0;32m      2\u001b[0m \u001b[0mplt\u001b[0m\u001b[1;33m.\u001b[0m\u001b[0mplot\u001b[0m\u001b[1;33m(\u001b[0m\u001b[0mnp\u001b[0m\u001b[1;33m.\u001b[0m\u001b[0msqueeze\u001b[0m\u001b[1;33m(\u001b[0m\u001b[0mmodel\u001b[0m\u001b[1;33m(\u001b[0m\u001b[0mx_train\u001b[0m\u001b[1;33m)\u001b[0m\u001b[1;33m)\u001b[0m\u001b[1;33m[\u001b[0m\u001b[1;33m:\u001b[0m\u001b[1;36m200\u001b[0m\u001b[1;33m,\u001b[0m\u001b[1;36m0\u001b[0m\u001b[1;33m]\u001b[0m\u001b[1;33m)\u001b[0m\u001b[1;33m\u001b[0m\u001b[1;33m\u001b[0m\u001b[0m\n\u001b[0;32m      3\u001b[0m \u001b[1;33m\u001b[0m\u001b[0m\n\u001b[0;32m      4\u001b[0m \u001b[0mplt\u001b[0m\u001b[1;33m.\u001b[0m\u001b[0mshow\u001b[0m\u001b[1;33m(\u001b[0m\u001b[1;33m)\u001b[0m\u001b[1;33m\u001b[0m\u001b[1;33m\u001b[0m\u001b[0m\n",
      "\u001b[1;31mNameError\u001b[0m: name 'y_train' is not defined"
     ]
    }
   ],
   "source": [
    "plt.plot(np.squeeze(y_train)[:200,0])\n",
    "plt.plot(np.squeeze(model(x_train))[:200,0])\n",
    "\n",
    "plt.show()"
   ]
  },
  {
   "cell_type": "markdown",
   "id": "0ead5b12",
   "metadata": {},
   "source": [
    "## На валидационной выборке"
   ]
  },
  {
   "cell_type": "code",
   "execution_count": 13,
   "id": "369a9209",
   "metadata": {},
   "outputs": [
    {
     "ename": "NameError",
     "evalue": "name 'y_test' is not defined",
     "output_type": "error",
     "traceback": [
      "\u001b[1;31m---------------------------------------------------------------------------\u001b[0m",
      "\u001b[1;31mNameError\u001b[0m                                 Traceback (most recent call last)",
      "\u001b[1;32m~\\AppData\\Local\\Temp/ipykernel_1388/1289292765.py\u001b[0m in \u001b[0;36m<module>\u001b[1;34m\u001b[0m\n\u001b[1;32m----> 1\u001b[1;33m \u001b[0mplt\u001b[0m\u001b[1;33m.\u001b[0m\u001b[0mplot\u001b[0m\u001b[1;33m(\u001b[0m\u001b[0mnp\u001b[0m\u001b[1;33m.\u001b[0m\u001b[0msqueeze\u001b[0m\u001b[1;33m(\u001b[0m\u001b[0my_test\u001b[0m\u001b[1;33m)\u001b[0m\u001b[1;33m[\u001b[0m\u001b[1;33m:\u001b[0m\u001b[1;36m200\u001b[0m\u001b[1;33m,\u001b[0m\u001b[1;36m0\u001b[0m\u001b[1;33m]\u001b[0m\u001b[1;33m)\u001b[0m\u001b[1;33m\u001b[0m\u001b[1;33m\u001b[0m\u001b[0m\n\u001b[0m\u001b[0;32m      2\u001b[0m \u001b[0mplt\u001b[0m\u001b[1;33m.\u001b[0m\u001b[0mplot\u001b[0m\u001b[1;33m(\u001b[0m\u001b[0mnp\u001b[0m\u001b[1;33m.\u001b[0m\u001b[0msqueeze\u001b[0m\u001b[1;33m(\u001b[0m\u001b[0mmodel\u001b[0m\u001b[1;33m(\u001b[0m\u001b[0mx_test\u001b[0m\u001b[1;33m)\u001b[0m\u001b[1;33m)\u001b[0m\u001b[1;33m[\u001b[0m\u001b[1;33m:\u001b[0m\u001b[1;36m200\u001b[0m\u001b[1;33m,\u001b[0m\u001b[1;36m0\u001b[0m\u001b[1;33m]\u001b[0m\u001b[1;33m)\u001b[0m\u001b[1;33m\u001b[0m\u001b[1;33m\u001b[0m\u001b[0m\n\u001b[0;32m      3\u001b[0m \u001b[1;33m\u001b[0m\u001b[0m\n\u001b[0;32m      4\u001b[0m \u001b[0mplt\u001b[0m\u001b[1;33m.\u001b[0m\u001b[0mshow\u001b[0m\u001b[1;33m(\u001b[0m\u001b[1;33m)\u001b[0m\u001b[1;33m\u001b[0m\u001b[1;33m\u001b[0m\u001b[0m\n",
      "\u001b[1;31mNameError\u001b[0m: name 'y_test' is not defined"
     ]
    }
   ],
   "source": [
    "plt.plot(np.squeeze(y_test)[:200,0])\n",
    "plt.plot(np.squeeze(model(x_test))[:200,0])\n",
    "\n",
    "plt.show()"
   ]
  },
  {
   "cell_type": "markdown",
   "id": "c5361cdc",
   "metadata": {},
   "source": [
    "# Функция построения прогноза"
   ]
  },
  {
   "cell_type": "code",
   "execution_count": 14,
   "id": "a4bfb9f7",
   "metadata": {},
   "outputs": [],
   "source": [
    "def predict():\n",
    "    total_series = np.concatenate([train_data, test_data])\n",
    "    total_series = total_series[len(train_data) - INPUT_WIDTH :]\n",
    "    \n",
    "    predicted = np.zeros((len(test_data)))\n",
    "    \n",
    "    for i in range(len(predicted)):\n",
    "        x1 = np.expand_dims(total_series[i : i + INPUT_WIDTH, INPUT1_COLUMNS], 0)\n",
    "        x2 = np.expand_dims(total_series[i + INPUT_WIDTH : \n",
    "                                         i + INPUT_WIDTH + LABEL_WIDTH, \n",
    "                                         INPUT2_COLUMNS], 0)\n",
    "        y = model([x1, x2])\n",
    "        \n",
    "        predicted[i] = y[0, 0, 0]\n",
    "        total_series[i + INPUT_WIDTH, 1] = y[0, 0, 1]\n",
    "        \n",
    "    predicted = restore_result(predicted)\n",
    "        \n",
    "    return predicted"
   ]
  },
  {
   "cell_type": "markdown",
   "id": "0a082dfe",
   "metadata": {},
   "source": [
    "# Оценка модели"
   ]
  },
  {
   "cell_type": "code",
   "execution_count": 15,
   "id": "c7cc4417",
   "metadata": {},
   "outputs": [
    {
     "ename": "NameError",
     "evalue": "name 'train_data' is not defined",
     "output_type": "error",
     "traceback": [
      "\u001b[1;31m---------------------------------------------------------------------------\u001b[0m",
      "\u001b[1;31mNameError\u001b[0m                                 Traceback (most recent call last)",
      "\u001b[1;32m~\\AppData\\Local\\Temp/ipykernel_1388/1844103042.py\u001b[0m in \u001b[0;36m<module>\u001b[1;34m\u001b[0m\n\u001b[1;32m----> 1\u001b[1;33m \u001b[0mpredicted\u001b[0m \u001b[1;33m=\u001b[0m \u001b[0mpredict\u001b[0m\u001b[1;33m(\u001b[0m\u001b[1;33m)\u001b[0m\u001b[1;33m\u001b[0m\u001b[1;33m\u001b[0m\u001b[0m\n\u001b[0m\u001b[0;32m      2\u001b[0m \u001b[1;33m\u001b[0m\u001b[0m\n\u001b[0;32m      3\u001b[0m \u001b[0mground_truth\u001b[0m \u001b[1;33m=\u001b[0m \u001b[0mrestore_result\u001b[0m\u001b[1;33m(\u001b[0m\u001b[0mtest_data\u001b[0m\u001b[1;33m.\u001b[0m\u001b[0mto_numpy\u001b[0m\u001b[1;33m(\u001b[0m\u001b[1;33m)\u001b[0m\u001b[1;33m[\u001b[0m\u001b[1;33m:\u001b[0m\u001b[1;33m,\u001b[0m\u001b[1;36m0\u001b[0m\u001b[1;33m]\u001b[0m\u001b[1;33m)\u001b[0m\u001b[1;33m\u001b[0m\u001b[1;33m\u001b[0m\u001b[0m\n",
      "\u001b[1;32m~\\AppData\\Local\\Temp/ipykernel_1388/2007257438.py\u001b[0m in \u001b[0;36mpredict\u001b[1;34m()\u001b[0m\n\u001b[0;32m      1\u001b[0m \u001b[1;32mdef\u001b[0m \u001b[0mpredict\u001b[0m\u001b[1;33m(\u001b[0m\u001b[1;33m)\u001b[0m\u001b[1;33m:\u001b[0m\u001b[1;33m\u001b[0m\u001b[1;33m\u001b[0m\u001b[0m\n\u001b[1;32m----> 2\u001b[1;33m     \u001b[0mtotal_series\u001b[0m \u001b[1;33m=\u001b[0m \u001b[0mnp\u001b[0m\u001b[1;33m.\u001b[0m\u001b[0mconcatenate\u001b[0m\u001b[1;33m(\u001b[0m\u001b[1;33m[\u001b[0m\u001b[0mtrain_data\u001b[0m\u001b[1;33m,\u001b[0m \u001b[0mtest_data\u001b[0m\u001b[1;33m]\u001b[0m\u001b[1;33m)\u001b[0m\u001b[1;33m\u001b[0m\u001b[1;33m\u001b[0m\u001b[0m\n\u001b[0m\u001b[0;32m      3\u001b[0m     \u001b[0mtotal_series\u001b[0m \u001b[1;33m=\u001b[0m \u001b[0mtotal_series\u001b[0m\u001b[1;33m[\u001b[0m\u001b[0mlen\u001b[0m\u001b[1;33m(\u001b[0m\u001b[0mtrain_data\u001b[0m\u001b[1;33m)\u001b[0m \u001b[1;33m-\u001b[0m \u001b[0mINPUT_WIDTH\u001b[0m \u001b[1;33m:\u001b[0m\u001b[1;33m]\u001b[0m\u001b[1;33m\u001b[0m\u001b[1;33m\u001b[0m\u001b[0m\n\u001b[0;32m      4\u001b[0m \u001b[1;33m\u001b[0m\u001b[0m\n\u001b[0;32m      5\u001b[0m     \u001b[0mpredicted\u001b[0m \u001b[1;33m=\u001b[0m \u001b[0mnp\u001b[0m\u001b[1;33m.\u001b[0m\u001b[0mzeros\u001b[0m\u001b[1;33m(\u001b[0m\u001b[1;33m(\u001b[0m\u001b[0mlen\u001b[0m\u001b[1;33m(\u001b[0m\u001b[0mtest_data\u001b[0m\u001b[1;33m)\u001b[0m\u001b[1;33m)\u001b[0m\u001b[1;33m)\u001b[0m\u001b[1;33m\u001b[0m\u001b[1;33m\u001b[0m\u001b[0m\n",
      "\u001b[1;31mNameError\u001b[0m: name 'train_data' is not defined"
     ]
    }
   ],
   "source": [
    "predicted = predict()\n",
    "\n",
    "ground_truth = restore_result(test_data.to_numpy()[:,0])"
   ]
  },
  {
   "cell_type": "code",
   "execution_count": 16,
   "id": "00289eda",
   "metadata": {},
   "outputs": [
    {
     "ename": "NameError",
     "evalue": "name 'ground_truth' is not defined",
     "output_type": "error",
     "traceback": [
      "\u001b[1;31m---------------------------------------------------------------------------\u001b[0m",
      "\u001b[1;31mNameError\u001b[0m                                 Traceback (most recent call last)",
      "\u001b[1;32m~\\AppData\\Local\\Temp/ipykernel_1388/1183365553.py\u001b[0m in \u001b[0;36m<module>\u001b[1;34m\u001b[0m\n\u001b[0;32m      1\u001b[0m \u001b[0mget_ipython\u001b[0m\u001b[1;33m(\u001b[0m\u001b[1;33m)\u001b[0m\u001b[1;33m.\u001b[0m\u001b[0mrun_line_magic\u001b[0m\u001b[1;33m(\u001b[0m\u001b[1;34m'run'\u001b[0m\u001b[1;33m,\u001b[0m \u001b[1;34m'evaluate_forecasts.ipynb'\u001b[0m\u001b[1;33m)\u001b[0m\u001b[1;33m\u001b[0m\u001b[1;33m\u001b[0m\u001b[0m\n\u001b[0;32m      2\u001b[0m \u001b[1;33m\u001b[0m\u001b[0m\n\u001b[1;32m----> 3\u001b[1;33m \u001b[0mevaluate_forecasts\u001b[0m\u001b[1;33m(\u001b[0m\u001b[0mground_truth\u001b[0m\u001b[1;33m,\u001b[0m \u001b[1;33m[\u001b[0m\u001b[0mpredicted\u001b[0m\u001b[1;33m]\u001b[0m\u001b[1;33m,\u001b[0m \u001b[1;33m[\u001b[0m\u001b[1;34m'MLP'\u001b[0m\u001b[1;33m]\u001b[0m\u001b[1;33m)\u001b[0m\u001b[1;33m\u001b[0m\u001b[1;33m\u001b[0m\u001b[0m\n\u001b[0m",
      "\u001b[1;31mNameError\u001b[0m: name 'ground_truth' is not defined"
     ]
    }
   ],
   "source": [
    "%run evaluate_forecasts.ipynb\n",
    "\n",
    "evaluate_forecasts(ground_truth, [predicted], ['MLP'])"
   ]
  },
  {
   "cell_type": "code",
   "execution_count": null,
   "id": "9bb9f30d",
   "metadata": {},
   "outputs": [],
   "source": []
  },
  {
   "cell_type": "code",
   "execution_count": null,
   "id": "61eda921",
   "metadata": {},
   "outputs": [],
   "source": []
  },
  {
   "cell_type": "code",
   "execution_count": null,
   "id": "c88a3c17",
   "metadata": {},
   "outputs": [],
   "source": []
  }
 ],
 "metadata": {
  "kernelspec": {
   "display_name": "Python 3 (ipykernel)",
   "language": "python",
   "name": "python3"
  },
  "language_info": {
   "codemirror_mode": {
    "name": "ipython",
    "version": 3
   },
   "file_extension": ".py",
   "mimetype": "text/x-python",
   "name": "python",
   "nbconvert_exporter": "python",
   "pygments_lexer": "ipython3",
   "version": "3.9.7"
  }
 },
 "nbformat": 4,
 "nbformat_minor": 5
}
